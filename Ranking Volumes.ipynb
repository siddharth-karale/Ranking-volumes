{
 "cells": [
  {
   "cell_type": "code",
   "execution_count": 1,
   "id": "de3ee9ef-46c7-4f6c-84c4-405133dd3d06",
   "metadata": {},
   "outputs": [],
   "source": [
    "import pandas as pd # Importing the pandas library."
   ]
  },
  {
   "cell_type": "code",
   "execution_count": 2,
   "id": "0c77fabc-6e22-4ef7-a7a7-3c02c6ae51a5",
   "metadata": {},
   "outputs": [],
   "source": [
    "data = pd.read_csv(r\"C:\\Users\\siddh\\Downloads\\SBIN_Data\\SBIN_Data.csv\") # Making a dataframe from our CSV data."
   ]
  },
  {
   "cell_type": "code",
   "execution_count": 3,
   "id": "29027743-1618-49ae-a903-cdd741331779",
   "metadata": {},
   "outputs": [
    {
     "data": {
      "text/html": [
       "<div>\n",
       "<style scoped>\n",
       "    .dataframe tbody tr th:only-of-type {\n",
       "        vertical-align: middle;\n",
       "    }\n",
       "\n",
       "    .dataframe tbody tr th {\n",
       "        vertical-align: top;\n",
       "    }\n",
       "\n",
       "    .dataframe thead th {\n",
       "        text-align: right;\n",
       "    }\n",
       "</style>\n",
       "<table border=\"1\" class=\"dataframe\">\n",
       "  <thead>\n",
       "    <tr style=\"text-align: right;\">\n",
       "      <th></th>\n",
       "      <th>Date</th>\n",
       "      <th>Open</th>\n",
       "      <th>High</th>\n",
       "      <th>Low</th>\n",
       "      <th>Close</th>\n",
       "      <th>Volume</th>\n",
       "      <th>Time</th>\n",
       "    </tr>\n",
       "  </thead>\n",
       "  <tbody>\n",
       "    <tr>\n",
       "      <th>0</th>\n",
       "      <td>01-01-2024</td>\n",
       "      <td>642.20</td>\n",
       "      <td>642.70</td>\n",
       "      <td>641.00</td>\n",
       "      <td>641.95</td>\n",
       "      <td>89481</td>\n",
       "      <td>09:15:00</td>\n",
       "    </tr>\n",
       "    <tr>\n",
       "      <th>1</th>\n",
       "      <td>01-01-2024</td>\n",
       "      <td>641.95</td>\n",
       "      <td>642.85</td>\n",
       "      <td>641.95</td>\n",
       "      <td>642.45</td>\n",
       "      <td>48965</td>\n",
       "      <td>09:16:00</td>\n",
       "    </tr>\n",
       "    <tr>\n",
       "      <th>2</th>\n",
       "      <td>01-01-2024</td>\n",
       "      <td>642.70</td>\n",
       "      <td>644.00</td>\n",
       "      <td>642.70</td>\n",
       "      <td>643.50</td>\n",
       "      <td>65729</td>\n",
       "      <td>09:17:00</td>\n",
       "    </tr>\n",
       "    <tr>\n",
       "      <th>3</th>\n",
       "      <td>01-01-2024</td>\n",
       "      <td>643.90</td>\n",
       "      <td>644.55</td>\n",
       "      <td>643.30</td>\n",
       "      <td>643.40</td>\n",
       "      <td>47909</td>\n",
       "      <td>09:18:00</td>\n",
       "    </tr>\n",
       "    <tr>\n",
       "      <th>4</th>\n",
       "      <td>01-01-2024</td>\n",
       "      <td>643.70</td>\n",
       "      <td>644.10</td>\n",
       "      <td>643.45</td>\n",
       "      <td>643.75</td>\n",
       "      <td>27645</td>\n",
       "      <td>09:19:00</td>\n",
       "    </tr>\n",
       "  </tbody>\n",
       "</table>\n",
       "</div>"
      ],
      "text/plain": [
       "         Date    Open    High     Low   Close  Volume      Time\n",
       "0  01-01-2024  642.20  642.70  641.00  641.95   89481  09:15:00\n",
       "1  01-01-2024  641.95  642.85  641.95  642.45   48965  09:16:00\n",
       "2  01-01-2024  642.70  644.00  642.70  643.50   65729  09:17:00\n",
       "3  01-01-2024  643.90  644.55  643.30  643.40   47909  09:18:00\n",
       "4  01-01-2024  643.70  644.10  643.45  643.75   27645  09:19:00"
      ]
     },
     "execution_count": 3,
     "metadata": {},
     "output_type": "execute_result"
    }
   ],
   "source": [
    "data.head() # Printing first 5 rows of out data. "
   ]
  },
  {
   "cell_type": "code",
   "execution_count": 4,
   "id": "09183f6a-f247-4880-b299-1e8458f0ed33",
   "metadata": {},
   "outputs": [
    {
     "name": "stdout",
     "output_type": "stream",
     "text": [
      "<class 'pandas.core.frame.DataFrame'>\n",
      "RangeIndex: 8250 entries, 0 to 8249\n",
      "Data columns (total 7 columns):\n",
      " #   Column  Non-Null Count  Dtype  \n",
      "---  ------  --------------  -----  \n",
      " 0   Date    8250 non-null   object \n",
      " 1   Open    8250 non-null   float64\n",
      " 2   High    8250 non-null   float64\n",
      " 3   Low     8250 non-null   float64\n",
      " 4   Close   8250 non-null   float64\n",
      " 5   Volume  8250 non-null   int64  \n",
      " 6   Time    8250 non-null   object \n",
      "dtypes: float64(4), int64(1), object(2)\n",
      "memory usage: 451.3+ KB\n"
     ]
    }
   ],
   "source": [
    "data.info() # Getting information about our dataframe."
   ]
  },
  {
   "cell_type": "code",
   "execution_count": 5,
   "id": "301a619a-694c-4fe1-9fe5-cfaae6de5664",
   "metadata": {},
   "outputs": [],
   "source": [
    "data['Time'] = pd.to_timedelta(data['Time']) # Converting object data type of time column to timedelta.\n",
    "\n",
    "# Separating values of hours and Minutes from the time column.\n",
    "\n",
    "data['Time_hours'] = data['Time'].dt.components.hours \n",
    "data['Time_minutes'] = data['Time'].dt.components.minutes"
   ]
  },
  {
   "cell_type": "code",
   "execution_count": 6,
   "id": "2957b5f2-91b3-43c4-8872-2e3d89202b43",
   "metadata": {},
   "outputs": [],
   "source": [
    "data['Date'] = pd.to_datetime(data['Date'], format = '%d-%m-%Y') # Converting object data type of Date column to datetime"
   ]
  },
  {
   "cell_type": "code",
   "execution_count": 7,
   "id": "8bc36825-3049-4400-a4fb-0672b3aa0006",
   "metadata": {},
   "outputs": [
    {
     "name": "stdout",
     "output_type": "stream",
     "text": [
      "<class 'pandas.core.frame.DataFrame'>\n",
      "RangeIndex: 8250 entries, 0 to 8249\n",
      "Data columns (total 9 columns):\n",
      " #   Column        Non-Null Count  Dtype          \n",
      "---  ------        --------------  -----          \n",
      " 0   Date          8250 non-null   datetime64[ns] \n",
      " 1   Open          8250 non-null   float64        \n",
      " 2   High          8250 non-null   float64        \n",
      " 3   Low           8250 non-null   float64        \n",
      " 4   Close         8250 non-null   float64        \n",
      " 5   Volume        8250 non-null   int64          \n",
      " 6   Time          8250 non-null   timedelta64[ns]\n",
      " 7   Time_hours    8250 non-null   int64          \n",
      " 8   Time_minutes  8250 non-null   int64          \n",
      "dtypes: datetime64[ns](1), float64(4), int64(3), timedelta64[ns](1)\n",
      "memory usage: 580.2 KB\n"
     ]
    }
   ],
   "source": [
    "data.info()"
   ]
  },
  {
   "cell_type": "code",
   "execution_count": 8,
   "id": "0bf8c260-f2e6-42ab-a5bf-2e996ca52da7",
   "metadata": {},
   "outputs": [],
   "source": [
    "data = data.drop('Time', axis = 1) # Droping time column as we have taken its values in hours and minutes column."
   ]
  },
  {
   "cell_type": "code",
   "execution_count": 9,
   "id": "56823a75-3348-4922-bea6-c40c785b7bf2",
   "metadata": {},
   "outputs": [
    {
     "data": {
      "text/html": [
       "<div>\n",
       "<style scoped>\n",
       "    .dataframe tbody tr th:only-of-type {\n",
       "        vertical-align: middle;\n",
       "    }\n",
       "\n",
       "    .dataframe tbody tr th {\n",
       "        vertical-align: top;\n",
       "    }\n",
       "\n",
       "    .dataframe thead th {\n",
       "        text-align: right;\n",
       "    }\n",
       "</style>\n",
       "<table border=\"1\" class=\"dataframe\">\n",
       "  <thead>\n",
       "    <tr style=\"text-align: right;\">\n",
       "      <th></th>\n",
       "      <th>Date</th>\n",
       "      <th>Open</th>\n",
       "      <th>High</th>\n",
       "      <th>Low</th>\n",
       "      <th>Close</th>\n",
       "      <th>Volume</th>\n",
       "      <th>Time_hours</th>\n",
       "      <th>Time_minutes</th>\n",
       "    </tr>\n",
       "  </thead>\n",
       "  <tbody>\n",
       "    <tr>\n",
       "      <th>0</th>\n",
       "      <td>2024-01-01</td>\n",
       "      <td>642.20</td>\n",
       "      <td>642.70</td>\n",
       "      <td>641.00</td>\n",
       "      <td>641.95</td>\n",
       "      <td>89481</td>\n",
       "      <td>9</td>\n",
       "      <td>15</td>\n",
       "    </tr>\n",
       "    <tr>\n",
       "      <th>1</th>\n",
       "      <td>2024-01-01</td>\n",
       "      <td>641.95</td>\n",
       "      <td>642.85</td>\n",
       "      <td>641.95</td>\n",
       "      <td>642.45</td>\n",
       "      <td>48965</td>\n",
       "      <td>9</td>\n",
       "      <td>16</td>\n",
       "    </tr>\n",
       "    <tr>\n",
       "      <th>2</th>\n",
       "      <td>2024-01-01</td>\n",
       "      <td>642.70</td>\n",
       "      <td>644.00</td>\n",
       "      <td>642.70</td>\n",
       "      <td>643.50</td>\n",
       "      <td>65729</td>\n",
       "      <td>9</td>\n",
       "      <td>17</td>\n",
       "    </tr>\n",
       "    <tr>\n",
       "      <th>3</th>\n",
       "      <td>2024-01-01</td>\n",
       "      <td>643.90</td>\n",
       "      <td>644.55</td>\n",
       "      <td>643.30</td>\n",
       "      <td>643.40</td>\n",
       "      <td>47909</td>\n",
       "      <td>9</td>\n",
       "      <td>18</td>\n",
       "    </tr>\n",
       "    <tr>\n",
       "      <th>4</th>\n",
       "      <td>2024-01-01</td>\n",
       "      <td>643.70</td>\n",
       "      <td>644.10</td>\n",
       "      <td>643.45</td>\n",
       "      <td>643.75</td>\n",
       "      <td>27645</td>\n",
       "      <td>9</td>\n",
       "      <td>19</td>\n",
       "    </tr>\n",
       "  </tbody>\n",
       "</table>\n",
       "</div>"
      ],
      "text/plain": [
       "        Date    Open    High     Low   Close  Volume  Time_hours  Time_minutes\n",
       "0 2024-01-01  642.20  642.70  641.00  641.95   89481           9            15\n",
       "1 2024-01-01  641.95  642.85  641.95  642.45   48965           9            16\n",
       "2 2024-01-01  642.70  644.00  642.70  643.50   65729           9            17\n",
       "3 2024-01-01  643.90  644.55  643.30  643.40   47909           9            18\n",
       "4 2024-01-01  643.70  644.10  643.45  643.75   27645           9            19"
      ]
     },
     "execution_count": 9,
     "metadata": {},
     "output_type": "execute_result"
    }
   ],
   "source": [
    "data.head()"
   ]
  },
  {
   "cell_type": "code",
   "execution_count": 10,
   "id": "2bca020a-a8f3-4ac2-920c-8150673108fd",
   "metadata": {},
   "outputs": [
    {
     "name": "stdout",
     "output_type": "stream",
     "text": [
      "<class 'pandas.core.frame.DataFrame'>\n",
      "RangeIndex: 8250 entries, 0 to 8249\n",
      "Data columns (total 8 columns):\n",
      " #   Column        Non-Null Count  Dtype         \n",
      "---  ------        --------------  -----         \n",
      " 0   Date          8250 non-null   datetime64[ns]\n",
      " 1   Open          8250 non-null   float64       \n",
      " 2   High          8250 non-null   float64       \n",
      " 3   Low           8250 non-null   float64       \n",
      " 4   Close         8250 non-null   float64       \n",
      " 5   Volume        8250 non-null   int64         \n",
      " 6   Time_hours    8250 non-null   int64         \n",
      " 7   Time_minutes  8250 non-null   int64         \n",
      "dtypes: datetime64[ns](1), float64(4), int64(3)\n",
      "memory usage: 515.8 KB\n"
     ]
    }
   ],
   "source": [
    "data.info()"
   ]
  },
  {
   "cell_type": "code",
   "execution_count": 11,
   "id": "59a8fb9f-6d1a-4e8b-aae6-aef78fa47b6d",
   "metadata": {},
   "outputs": [],
   "source": [
    "def calculate_volume_rank(df):\n",
    "    df['rank'] = 0  # Add a new column 'rank' and initialize it with zeros\n",
    "      \n",
    "    for i in range(len(df)):           # Extract current date, hour, minute from the row\n",
    "        current_date = df.loc[i, 'Date']\n",
    "        current_time_hours = df.loc[i, 'Time_hours']\n",
    "        current_time_minutes = df.loc[i, 'Time_minutes']\n",
    "                \n",
    "        # Filter data for previous days with the same time slot (hour & minute)\n",
    "        previous_days_data = df[(df['Date'] < current_date) & (df['Time_hours'] == current_time_hours) & (df['Time_minutes'] == current_time_minutes)].tail(4)\n",
    "        \n",
    "        # Check if data for 4 previous days is available# Check if data for 4 previous days is available\n",
    "        if len(previous_days_data) == 4:\n",
    "\n",
    "            # Calculate the rank based on how many previous days had higher volume\n",
    "            rank = (previous_days_data['Volume'] > df.loc[i, 'Volume']).sum() + 1\n",
    "            df.loc[i, 'rank'] = rank\n",
    "        else:\n",
    "\n",
    "            # If data not available, set rank to 0\n",
    "            df.loc[i, 'rank'] = 0\n",
    "\n",
    "    # Return the modified dataframe with the 'rank' column     \n",
    "    return df"
   ]
  },
  {
   "cell_type": "code",
   "execution_count": 12,
   "id": "a8f6d63f-26e4-494f-aa36-e1a83d0ab184",
   "metadata": {},
   "outputs": [],
   "source": [
    "df = calculate_volume_rank(data) #Applying the fuction on our dataframe."
   ]
  },
  {
   "cell_type": "code",
   "execution_count": 13,
   "id": "a2bd3f7b-fe71-4aae-9160-6fa069c0d789",
   "metadata": {},
   "outputs": [
    {
     "data": {
      "text/html": [
       "<div>\n",
       "<style scoped>\n",
       "    .dataframe tbody tr th:only-of-type {\n",
       "        vertical-align: middle;\n",
       "    }\n",
       "\n",
       "    .dataframe tbody tr th {\n",
       "        vertical-align: top;\n",
       "    }\n",
       "\n",
       "    .dataframe thead th {\n",
       "        text-align: right;\n",
       "    }\n",
       "</style>\n",
       "<table border=\"1\" class=\"dataframe\">\n",
       "  <thead>\n",
       "    <tr style=\"text-align: right;\">\n",
       "      <th></th>\n",
       "      <th>Date</th>\n",
       "      <th>Open</th>\n",
       "      <th>High</th>\n",
       "      <th>Low</th>\n",
       "      <th>Close</th>\n",
       "      <th>Volume</th>\n",
       "      <th>Time_hours</th>\n",
       "      <th>Time_minutes</th>\n",
       "      <th>rank</th>\n",
       "    </tr>\n",
       "  </thead>\n",
       "  <tbody>\n",
       "    <tr>\n",
       "      <th>0</th>\n",
       "      <td>2024-01-01</td>\n",
       "      <td>642.20</td>\n",
       "      <td>642.70</td>\n",
       "      <td>641.00</td>\n",
       "      <td>641.95</td>\n",
       "      <td>89481</td>\n",
       "      <td>9</td>\n",
       "      <td>15</td>\n",
       "      <td>0</td>\n",
       "    </tr>\n",
       "    <tr>\n",
       "      <th>1</th>\n",
       "      <td>2024-01-01</td>\n",
       "      <td>641.95</td>\n",
       "      <td>642.85</td>\n",
       "      <td>641.95</td>\n",
       "      <td>642.45</td>\n",
       "      <td>48965</td>\n",
       "      <td>9</td>\n",
       "      <td>16</td>\n",
       "      <td>0</td>\n",
       "    </tr>\n",
       "    <tr>\n",
       "      <th>2</th>\n",
       "      <td>2024-01-01</td>\n",
       "      <td>642.70</td>\n",
       "      <td>644.00</td>\n",
       "      <td>642.70</td>\n",
       "      <td>643.50</td>\n",
       "      <td>65729</td>\n",
       "      <td>9</td>\n",
       "      <td>17</td>\n",
       "      <td>0</td>\n",
       "    </tr>\n",
       "    <tr>\n",
       "      <th>3</th>\n",
       "      <td>2024-01-01</td>\n",
       "      <td>643.90</td>\n",
       "      <td>644.55</td>\n",
       "      <td>643.30</td>\n",
       "      <td>643.40</td>\n",
       "      <td>47909</td>\n",
       "      <td>9</td>\n",
       "      <td>18</td>\n",
       "      <td>0</td>\n",
       "    </tr>\n",
       "    <tr>\n",
       "      <th>4</th>\n",
       "      <td>2024-01-01</td>\n",
       "      <td>643.70</td>\n",
       "      <td>644.10</td>\n",
       "      <td>643.45</td>\n",
       "      <td>643.75</td>\n",
       "      <td>27645</td>\n",
       "      <td>9</td>\n",
       "      <td>19</td>\n",
       "      <td>0</td>\n",
       "    </tr>\n",
       "  </tbody>\n",
       "</table>\n",
       "</div>"
      ],
      "text/plain": [
       "        Date    Open    High     Low   Close  Volume  Time_hours  \\\n",
       "0 2024-01-01  642.20  642.70  641.00  641.95   89481           9   \n",
       "1 2024-01-01  641.95  642.85  641.95  642.45   48965           9   \n",
       "2 2024-01-01  642.70  644.00  642.70  643.50   65729           9   \n",
       "3 2024-01-01  643.90  644.55  643.30  643.40   47909           9   \n",
       "4 2024-01-01  643.70  644.10  643.45  643.75   27645           9   \n",
       "\n",
       "   Time_minutes  rank  \n",
       "0            15     0  \n",
       "1            16     0  \n",
       "2            17     0  \n",
       "3            18     0  \n",
       "4            19     0  "
      ]
     },
     "execution_count": 13,
     "metadata": {},
     "output_type": "execute_result"
    }
   ],
   "source": [
    "df.head() # Dataframe after applying the function with new column Rank."
   ]
  },
  {
   "cell_type": "code",
   "execution_count": 14,
   "id": "e2b39016-b1cb-4676-95ed-48a31ca30d8e",
   "metadata": {},
   "outputs": [],
   "source": [
    "df.to_csv(\"file1.csv\") # Saving the data in CSV format."
   ]
  },
  {
   "cell_type": "code",
   "execution_count": null,
   "id": "79194093-660b-43f5-87a5-d4a74095a782",
   "metadata": {},
   "outputs": [],
   "source": []
  }
 ],
 "metadata": {
  "kernelspec": {
   "display_name": "Python 3 (ipykernel)",
   "language": "python",
   "name": "python3"
  },
  "language_info": {
   "codemirror_mode": {
    "name": "ipython",
    "version": 3
   },
   "file_extension": ".py",
   "mimetype": "text/x-python",
   "name": "python",
   "nbconvert_exporter": "python",
   "pygments_lexer": "ipython3",
   "version": "3.9.18"
  }
 },
 "nbformat": 4,
 "nbformat_minor": 5
}
